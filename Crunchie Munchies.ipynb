{
 "cells": [
  {
   "cell_type": "markdown",
   "metadata": {},
   "source": [
    "<h1> Statistics on the YummyCorp's nutritional values </h1>\n",
    "\n",
    "Hello guys, suppose I'm an R&D employee in the Yummy Corporation. Our company is currently developing a new kind of tasty, wholesome cereal called CrunchieMunchies.\n",
    "\n",
    "I was assigned the task of desmonstrating to all of you, who are the potential customers of our companies, how healthy our new cereal is in comparison to other brands.\n",
    "\n",
    "Here we have collected nutritional data of several competitors.\n",
    "\n",
    "**First, to accomplish this task, we need to import the Numpy library.**"
   ]
  },
  {
   "cell_type": "code",
   "execution_count": 1,
   "metadata": {},
   "outputs": [],
   "source": [
    "import numpy as np"
   ]
  },
  {
   "cell_type": "markdown",
   "metadata": {},
   "source": [
    "The **cereal.csv** file contains the calories amounts of different cereal brands. To use this file, load the file into a variable named **calorie_stats**.\n",
    "\n",
    "Notice that the numbers are separated with each others by the character **,**. So we'll write the code **delimiter = ','**."
   ]
  },
  {
   "cell_type": "code",
   "execution_count": 2,
   "metadata": {},
   "outputs": [],
   "source": [
    "calorie_stats = np.genfromtxt('cereal.csv', delimiter = ',')"
   ]
  },
  {
   "cell_type": "markdown",
   "metadata": {},
   "source": [
    "Take a look on how these data looks like."
   ]
  },
  {
   "cell_type": "code",
   "execution_count": 4,
   "metadata": {},
   "outputs": [
    {
     "name": "stdout",
     "output_type": "stream",
     "text": [
      "[ 70. 120.  70.  50. 110. 110. 110. 130.  90.  90. 120. 110. 120. 110.\n",
      " 110. 110. 100. 110. 110. 110. 100. 110. 100. 100. 110. 110. 100. 120.\n",
      " 120. 110. 100. 110. 100. 110. 120. 120. 110. 110. 110. 140. 110. 100.\n",
      " 110. 100. 150. 150. 160. 100. 120. 140.  90. 130. 120. 100.  50.  50.\n",
      " 100. 100. 120. 100.  90. 110. 110.  80.  90.  90. 110. 110.  90. 110.\n",
      " 140. 100. 110. 110. 100. 100. 110.]\n"
     ]
    }
   ],
   "source": [
    "print(calorie_stats)"
   ]
  },
  {
   "cell_type": "markdown",
   "metadata": {},
   "source": [
    "It seems that our data is in no particular order.\n",
    "\n",
    "Use the **np.sort** command to make tt easier to look at in an ascending order."
   ]
  },
  {
   "cell_type": "code",
   "execution_count": 5,
   "metadata": {},
   "outputs": [
    {
     "name": "stdout",
     "output_type": "stream",
     "text": [
      "[ 50.  50.  50.  70.  70.  80.  90.  90.  90.  90.  90.  90.  90. 100.\n",
      " 100. 100. 100. 100. 100. 100. 100. 100. 100. 100. 100. 100. 100. 100.\n",
      " 100. 100. 110. 110. 110. 110. 110. 110. 110. 110. 110. 110. 110. 110.\n",
      " 110. 110. 110. 110. 110. 110. 110. 110. 110. 110. 110. 110. 110. 110.\n",
      " 110. 110. 110. 120. 120. 120. 120. 120. 120. 120. 120. 120. 120. 130.\n",
      " 130. 140. 140. 140. 150. 150. 160.]\n"
     ]
    }
   ],
   "source": [
    "calorie_stats_sorted = np.sort(calorie_stats)\n",
    "print(calorie_stats_sorted)"
   ]
  },
  {
   "cell_type": "markdown",
   "metadata": {},
   "source": [
    "So now we got some very first information about what we have collected from other brands.\n",
    "\n",
    "The *minimum calorie amount* is **50.0**, while *the most highest amount* is about **160.0**.\n",
    "\n",
    "About our _Crunchies Munchies_ , there are __60 calories__ per serving. \n",
    "\n",
    "Hmmm do you wonder if this cereal had more or less calories than the average cereal. The **np.mean** command will help us figure out. To make the number shorter, use **round** command to round it up to the maximum of 2 decimal numbers."
   ]
  },
  {
   "cell_type": "code",
   "execution_count": 11,
   "metadata": {},
   "outputs": [
    {
     "name": "stdout",
     "output_type": "stream",
     "text": [
      "106.88\n"
     ]
    }
   ],
   "source": [
    "average_calories = np.mean(calorie_stats)\n",
    "print(round(average_calories, 2))"
   ]
  },
  {
   "cell_type": "code",
   "execution_count": 12,
   "metadata": {},
   "outputs": [
    {
     "name": "stdout",
     "output_type": "stream",
     "text": [
      "46.88\n"
     ]
    }
   ],
   "source": [
    "less_calories = average_calories - 60.\n",
    "print(round(less_calories,2))"
   ]
  },
  {
   "cell_type": "markdown",
   "metadata": {},
   "source": [
    "Wow, such a significant number!\n",
    "\n",
    "Our new cereal is much healthier than the others because it have less **46.88** calories. Meanwhile, other brands have __106.88__ calories on average.\n",
    "\n",
    "But hold on, the __median__ number is a better representative of the dataset. The _median_ splits our data into 2 equal halves, 50% of the data is higher than the _median_ ."
   ]
  },
  {
   "cell_type": "code",
   "execution_count": 14,
   "metadata": {},
   "outputs": [
    {
     "name": "stdout",
     "output_type": "stream",
     "text": [
      "110.0\n"
     ]
    }
   ],
   "source": [
    "median_calories = np.median(calorie_stats)\n",
    "print(median_calories)"
   ]
  },
  {
   "cell_type": "markdown",
   "metadata": {},
   "source": [
    "Do you see what I want to show you?\n",
    "\n",
    "The majority of the dataset, at least a half, have a far higher calories amount than our __Crunchie Munchies__ . It seems to be the best choice of food for anyone on diet.\n",
    "\n",
    "But it will be more impressive if I show you a significant portion of the competition has a higher calorie than CrunchieMunchies.\n",
    "\n",
    "So we need to find the lowest _nth percentile_ of the dataset, which demonstrates the percentage of data greater than 60 calories in comparison to CrunchieMunchies."
   ]
  },
  {
   "cell_type": "code",
   "execution_count": 15,
   "metadata": {},
   "outputs": [
    {
     "name": "stdout",
     "output_type": "stream",
     "text": [
      "100.0\n"
     ]
    }
   ],
   "source": [
    "print(np.percentile(calorie_stats, 20)) #the point at which 20% of data is lower"
   ]
  },
  {
   "cell_type": "markdown",
   "metadata": {},
   "source": [
    "It seems to be much higher than our number of 60 calories of CrunchieMuchies. Let's cut it down in half."
   ]
  },
  {
   "cell_type": "code",
   "execution_count": 16,
   "metadata": {},
   "outputs": [
    {
     "name": "stdout",
     "output_type": "stream",
     "text": [
      "90.0\n"
     ]
    }
   ],
   "source": [
    "print(np.percentile(calorie_stats, 10)) #the point at which 10% of data is lower"
   ]
  },
  {
   "cell_type": "markdown",
   "metadata": {},
   "source": [
    "Still high, cut more."
   ]
  },
  {
   "cell_type": "code",
   "execution_count": 17,
   "metadata": {},
   "outputs": [
    {
     "name": "stdout",
     "output_type": "stream",
     "text": [
      "70.0\n"
     ]
    }
   ],
   "source": [
    "print(np.percentile(calorie_stats, 5)) #the point at which 5% of data is lower"
   ]
  },
  {
   "cell_type": "markdown",
   "metadata": {},
   "source": [
    "Yay, close to 60. But we need to cut it down to find the lowest point in this dataset which the majority is greater than our cereal."
   ]
  },
  {
   "cell_type": "code",
   "execution_count": 18,
   "metadata": {},
   "outputs": [
    {
     "name": "stdout",
     "output_type": "stream",
     "text": [
      "55.599999999999994\n"
     ]
    }
   ],
   "source": [
    "print(np.percentile(calorie_stats, 3)) #the point at which 3% of data is lower"
   ]
  },
  {
   "cell_type": "markdown",
   "metadata": {},
   "source": [
    "Thank God, we found the point which our calorie amount is higher than."
   ]
  },
  {
   "cell_type": "code",
   "execution_count": 19,
   "metadata": {},
   "outputs": [
    {
     "name": "stdout",
     "output_type": "stream",
     "text": [
      "70.0\n"
     ]
    }
   ],
   "source": [
    "print(np.percentile(calorie_stats, 4)) #the point at which 4% of data is lower"
   ]
  },
  {
   "cell_type": "code",
   "execution_count": 20,
   "metadata": {},
   "outputs": [],
   "source": [
    "nth_percentile = 4"
   ]
  },
  {
   "cell_type": "markdown",
   "metadata": {},
   "source": [
    "It means that just 4% of other cereals has less calories than ours.\n",
    "\n",
    "The __more_calories__ variable below holds the percentage of cereals that have more than 60 calories per serving. The __np.mean()__ funtion helps us find out."
   ]
  },
  {
   "cell_type": "code",
   "execution_count": 22,
   "metadata": {},
   "outputs": [
    {
     "name": "stdout",
     "output_type": "stream",
     "text": [
      "0.961038961038961\n"
     ]
    }
   ],
   "source": [
    "more_calories = np.mean(calorie_stats > 60)\n",
    "print(more_calories)"
   ]
  },
  {
   "cell_type": "markdown",
   "metadata": {},
   "source": [
    "So high this percentage is!\n",
    "\n",
    "Could we jump to a conclusion that our new developed product is much more healthier others?\n",
    "\n",
    "A final question that I have is the variation of this dataset. We will find it through the __standard deviation__ , which can be found by _np.std_ function."
   ]
  },
  {
   "cell_type": "code",
   "execution_count": 24,
   "metadata": {},
   "outputs": [
    {
     "name": "stdout",
     "output_type": "stream",
     "text": [
      "19.36\n"
     ]
    }
   ],
   "source": [
    "calorie_std = np.std(calorie_stats)\n",
    "print(round(calorie_std, 2))"
   ]
  },
  {
   "cell_type": "markdown",
   "metadata": {},
   "source": [
    "The data must spread out around _the average_ of **106.88** by most __19.36__ calories.\n",
    "\n",
    "## Finally, we are honored to introduce our brand new cereal named __Cruchie Munchies__ ."
   ]
  }
 ],
 "metadata": {
  "kernelspec": {
   "display_name": "Python 3",
   "language": "python",
   "name": "python3"
  },
  "language_info": {
   "codemirror_mode": {
    "name": "ipython",
    "version": 3
   },
   "file_extension": ".py",
   "mimetype": "text/x-python",
   "name": "python",
   "nbconvert_exporter": "python",
   "pygments_lexer": "ipython3",
   "version": "3.8.3"
  }
 },
 "nbformat": 4,
 "nbformat_minor": 4
}
